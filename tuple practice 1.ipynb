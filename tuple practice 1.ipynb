{
 "cells": [
  {
   "cell_type": "code",
   "execution_count": 1,
   "id": "30e6d7e6-9a76-4d65-b497-bbf291e77b02",
   "metadata": {},
   "outputs": [
    {
     "name": "stdout",
     "output_type": "stream",
     "text": [
      "()\n"
     ]
    }
   ],
   "source": [
    "empty_tuple=()\n",
    "print(empty_tuple)"
   ]
  },
  {
   "cell_type": "code",
   "execution_count": 3,
   "id": "ebc5c1b6-e97b-474e-946d-cf93d410d9c2",
   "metadata": {},
   "outputs": [
    {
     "name": "stdout",
     "output_type": "stream",
     "text": [
      "(26, 45, 32)\n"
     ]
    }
   ],
   "source": [
    "value_tuple=26,45,32\n",
    "print(value_tuple)"
   ]
  },
  {
   "cell_type": "code",
   "execution_count": 7,
   "id": "41a4a39b-c8a2-4bfd-a12c-2e28827fe3a0",
   "metadata": {},
   "outputs": [
    {
     "name": "stdout",
     "output_type": "stream",
     "text": [
      "(26, 45, 'hello')\n"
     ]
    }
   ],
   "source": [
    "empty_tuple=(26,45,'hello')\n",
    "print(empty_tuple)"
   ]
  },
  {
   "cell_type": "code",
   "execution_count": 9,
   "id": "e4153700-d3cd-4bca-9344-6d1bb75c57e7",
   "metadata": {},
   "outputs": [
    {
     "name": "stdout",
     "output_type": "stream",
     "text": [
      "(26, 45, 'hello')\n"
     ]
    }
   ],
   "source": [
    "empty_tuple=26,45,'hello'\n",
    "print(empty_tuple)"
   ]
  },
  {
   "cell_type": "code",
   "execution_count": 17,
   "id": "7e4f2c9d-7f4d-445c-960c-d8a71d3260bd",
   "metadata": {},
   "outputs": [
    {
     "name": "stdout",
     "output_type": "stream",
     "text": [
      "('hello',)\n",
      "<class 'tuple'>\n"
     ]
    }
   ],
   "source": [
    "tuple=('hello',)\n",
    "print(tuple)\n",
    "print(type(tuple))#fiigg"
   ]
  },
  {
   "cell_type": "code",
   "execution_count": 19,
   "id": "a664e66a-478e-4197-bf90-5e2b9342817f",
   "metadata": {},
   "outputs": [
    {
     "ename": "TypeError",
     "evalue": "'tuple' object does not support item assignment",
     "output_type": "error",
     "traceback": [
      "\u001b[1;31m---------------------------------------------------------------------------\u001b[0m",
      "\u001b[1;31mTypeError\u001b[0m                                 Traceback (most recent call last)",
      "Cell \u001b[1;32mIn[19], line 2\u001b[0m\n\u001b[0;32m      1\u001b[0m value_tuple\u001b[38;5;241m=\u001b[39m(\u001b[38;5;241m26\u001b[39m,\u001b[38;5;241m45\u001b[39m,\u001b[38;5;124m'\u001b[39m\u001b[38;5;124mhello\u001b[39m\u001b[38;5;124m'\u001b[39m)\n\u001b[1;32m----> 2\u001b[0m value_tuple[\u001b[38;5;241m1\u001b[39m]\u001b[38;5;241m=\u001b[39m\u001b[38;5;241m7\u001b[39m\n\u001b[0;32m      3\u001b[0m \u001b[38;5;28mprint\u001b[39m(value_tuple)\n",
      "\u001b[1;31mTypeError\u001b[0m: 'tuple' object does not support item assignment"
     ]
    }
   ],
   "source": [
    "value_tuple=(26,45,'hello')\n",
    "value_tuple[1]=7\n",
    "print(value_tuple)"
   ]
  },
  {
   "cell_type": "code",
   "execution_count": 21,
   "id": "aacbc1f1-5c01-4def-9d79-5eefd4d26b42",
   "metadata": {},
   "outputs": [
    {
     "name": "stdout",
     "output_type": "stream",
     "text": [
      "(26, 45, 'hello', 7, 5.6, 'python')\n"
     ]
    }
   ],
   "source": [
    "value1_tuple=(26,45,'hello')\n",
    "value2_tuple=7,5.6,\"python\"\n",
    "print(value1_tuple+value2_tuple)\n"
   ]
  },
  {
   "cell_type": "code",
   "execution_count": 3,
   "id": "bf6c5ef6-e561-489d-b208-cae83ea319c1",
   "metadata": {},
   "outputs": [
    {
     "name": "stdout",
     "output_type": "stream",
     "text": [
      "((26, 45, 'hello'), (7, 5.6, 'python'))\n"
     ]
    }
   ],
   "source": [
    "value1_tuple=(26,45,'hello')\n",
    "value2_tuple=7,5.6,\"python\"\n",
    "value3_tuple=value1_tuple,value2_tuple\n",
    "print(value3_tuple)"
   ]
  },
  {
   "cell_type": "code",
   "execution_count": 5,
   "id": "26b54e9d-e0a0-48bb-b257-8176b287a9c4",
   "metadata": {},
   "outputs": [
    {
     "name": "stdout",
     "output_type": "stream",
     "text": [
      "(26, 45, 'hello', 26, 45, 'hello')\n"
     ]
    }
   ],
   "source": [
    "value_tuple=(26,45,'hello')*2\n",
    "print(value_tuple)"
   ]
  },
  {
   "cell_type": "code",
   "execution_count": 7,
   "id": "e79c17a7-a6a4-49d1-a0ed-82094b45afc5",
   "metadata": {},
   "outputs": [
    {
     "name": "stdout",
     "output_type": "stream",
     "text": [
      "7.5\n"
     ]
    }
   ],
   "source": [
    "value_tuple=(26,45,'hello',7.5)\n",
    "print(value_tuple[3])"
   ]
  },
  {
   "cell_type": "code",
   "execution_count": 9,
   "id": "4b14720c-378c-49e3-bb10-a8499ee9ac50",
   "metadata": {},
   "outputs": [
    {
     "name": "stdout",
     "output_type": "stream",
     "text": [
      "(26, 45, 'hello', 7.5)\n"
     ]
    }
   ],
   "source": [
    "value_tuple=(26,45,'hello',7.5)\n",
    "print(value_tuple[0:])"
   ]
  },
  {
   "cell_type": "code",
   "execution_count": 11,
   "id": "2c52cedb-1158-4823-88bb-4ba19f378d71",
   "metadata": {},
   "outputs": [
    {
     "name": "stdout",
     "output_type": "stream",
     "text": [
      "('hello', 7.5)\n"
     ]
    }
   ],
   "source": [
    "value_tuple=(26,45,'hello',7.5)\n",
    "print(value_tuple[2:])"
   ]
  },
  {
   "cell_type": "code",
   "execution_count": 13,
   "id": "3cc94bbb-452d-4535-ad7e-52459821da04",
   "metadata": {},
   "outputs": [
    {
     "name": "stdout",
     "output_type": "stream",
     "text": [
      "(26, 45, 'hello')\n"
     ]
    }
   ],
   "source": [
    "value_tuple=(26,45,'hello',7.5)\n",
    "print(value_tuple[:3])"
   ]
  },
  {
   "cell_type": "code",
   "execution_count": 15,
   "id": "2538b994-e82f-491e-a9ca-7242bd85283a",
   "metadata": {},
   "outputs": [
    {
     "name": "stdout",
     "output_type": "stream",
     "text": [
      "(26, 45, 'hello', 7.5, 'z', 5, 6.9)\n"
     ]
    }
   ],
   "source": [
    "value_tuple=(26,45,'hello',7.5,'z',5,6.9)\n",
    "print(value_tuple[:7])"
   ]
  },
  {
   "cell_type": "code",
   "execution_count": 17,
   "id": "077c1402-ad6a-4192-b7b3-8cf14fa193e7",
   "metadata": {},
   "outputs": [
    {
     "name": "stdout",
     "output_type": "stream",
     "text": [
      "(26, 45, 'hello', 7.5)\n"
     ]
    }
   ],
   "source": [
    "value_tuple=(26,45,'hello',7.5)\n",
    "print(value_tuple[:4])"
   ]
  },
  {
   "cell_type": "code",
   "execution_count": 19,
   "id": "665de4ba-4430-46bb-8774-64379f1bb91d",
   "metadata": {},
   "outputs": [
    {
     "name": "stdout",
     "output_type": "stream",
     "text": [
      "7.5\n"
     ]
    }
   ],
   "source": [
    "value_tuple=(26,45,'hello',7.5)\n",
    "print(value_tuple[-1])"
   ]
  },
  {
   "cell_type": "code",
   "execution_count": 23,
   "id": "461af53f-362c-4879-bc2a-21e4abc7ee2b",
   "metadata": {},
   "outputs": [
    {
     "name": "stdout",
     "output_type": "stream",
     "text": [
      "(26, 45, 'hello', 7.5, 'z', 5)\n"
     ]
    }
   ],
   "source": [
    "value_tuple=(26,45,'hello',7.5,'z',5,6.9)\n",
    "print(value_tuple[:-1])"
   ]
  },
  {
   "cell_type": "code",
   "execution_count": 25,
   "id": "7671603e-60a2-4ae3-b3bb-3aab05cceacb",
   "metadata": {},
   "outputs": [
    {
     "name": "stdout",
     "output_type": "stream",
     "text": [
      "(6.9, 5, 'z', 7.5, 'hello', 45, 26)\n"
     ]
    }
   ],
   "source": [
    "value_tuple=(26,45,'hello',7.5,'z',5,6.9)\n",
    "print(value_tuple[::-1])"
   ]
  },
  {
   "cell_type": "code",
   "execution_count": 27,
   "id": "17cbe41b-e83f-43ec-b451-2f3354acf7f8",
   "metadata": {},
   "outputs": [
    {
     "name": "stdout",
     "output_type": "stream",
     "text": [
      "(6.9, 'z', 'hello', 26)\n"
     ]
    }
   ],
   "source": [
    "value_tuple=(26,45,'hello',7.5,'z',5,6.9)\n",
    "print(value_tuple[::-2])"
   ]
  },
  {
   "cell_type": "code",
   "execution_count": 29,
   "id": "ed80280a-ef6b-4d22-a9de-4a4e598fc6fd",
   "metadata": {},
   "outputs": [
    {
     "name": "stdout",
     "output_type": "stream",
     "text": [
      "(6.9, 7.5, 26)\n"
     ]
    }
   ],
   "source": [
    "value_tuple=(26,45,'hello',7.5,'z',5,6.9)\n",
    "print(value_tuple[::-3])"
   ]
  },
  {
   "cell_type": "code",
   "execution_count": 31,
   "id": "3d8cca27-a5da-4b17-9477-84ec546ad35a",
   "metadata": {},
   "outputs": [
    {
     "name": "stdout",
     "output_type": "stream",
     "text": [
      "('hello', 7.5, 'z', 5, 6.9)\n"
     ]
    }
   ],
   "source": [
    "value_tuple=(26,45,'hello',7.5,'z',5,6.9)\n",
    "print(value_tuple[2::])"
   ]
  },
  {
   "cell_type": "code",
   "execution_count": 33,
   "id": "db461c53-75dd-4ed7-b890-c34b26ea8642",
   "metadata": {},
   "outputs": [
    {
     "name": "stdout",
     "output_type": "stream",
     "text": [
      "(26, 'hello', 'z', 6.9)\n"
     ]
    }
   ],
   "source": [
    "value_tuple=(26,45,'hello',7.5,'z',5,6.9)\n",
    "print(value_tuple[::2])"
   ]
  },
  {
   "cell_type": "code",
   "execution_count": 35,
   "id": "349aac01-617c-46a3-bd5c-af2a724572a4",
   "metadata": {},
   "outputs": [
    {
     "name": "stdout",
     "output_type": "stream",
     "text": [
      "(45, 5)\n"
     ]
    }
   ],
   "source": [
    "value_tuple=(26,45,'hello',7.5,'z',5,6.9)\n",
    "print(value_tuple[1::4])"
   ]
  },
  {
   "cell_type": "code",
   "execution_count": 37,
   "id": "b4bc7f60-4f49-4ea8-bcc0-2f2d53e7569f",
   "metadata": {},
   "outputs": [
    {
     "name": "stdout",
     "output_type": "stream",
     "text": [
      "(45, 'hello', 7.5, 'z', 5, 6.9)\n"
     ]
    }
   ],
   "source": [
    "value_tuple=(26,45,'hello',7.5,'z',5,6.9)\n",
    "print(value_tuple[1::1])"
   ]
  },
  {
   "cell_type": "code",
   "execution_count": 39,
   "id": "66f8efd2-da08-452f-9b72-f405f2c32877",
   "metadata": {},
   "outputs": [
    {
     "name": "stdout",
     "output_type": "stream",
     "text": [
      "(45, 'z')\n"
     ]
    }
   ],
   "source": [
    "value_tuple=(26,45,'hello',7.5,'z',5,6.9)\n",
    "print(value_tuple[1::3])"
   ]
  },
  {
   "cell_type": "code",
   "execution_count": 41,
   "id": "570482dd-9f0c-45a1-98a6-7352edaff9af",
   "metadata": {},
   "outputs": [
    {
     "name": "stdout",
     "output_type": "stream",
     "text": [
      "(6.9, 'z', 'hello', 26)\n"
     ]
    }
   ],
   "source": [
    "value_tuple=(26,45,'hello',7.5,'z',5,6.9)\n",
    "print(value_tuple[-1::-2])"
   ]
  },
  {
   "cell_type": "code",
   "execution_count": 43,
   "id": "0b51bc5d-a1da-441e-8369-d84e18dc0118",
   "metadata": {},
   "outputs": [
    {
     "name": "stdout",
     "output_type": "stream",
     "text": [
      "(45, 7.5, 5)\n"
     ]
    }
   ],
   "source": [
    "value_tuple=(26,45,'hello',7.5,'z',5,6.9)\n",
    "print(value_tuple[1:6:2])"
   ]
  },
  {
   "cell_type": "code",
   "execution_count": 45,
   "id": "f449fccd-783b-476e-a641-72f5b26e7c25",
   "metadata": {},
   "outputs": [
    {
     "name": "stdout",
     "output_type": "stream",
     "text": [
      "(45,)\n"
     ]
    }
   ],
   "source": [
    "value_tuple=(26,45,'hel3o',7.5,'z',5,6.9)\n",
    "print(value_tuple[1:3:2])"
   ]
  },
  {
   "cell_type": "code",
   "execution_count": 47,
   "id": "4f036341-83c0-4061-b08d-c43be0ff00ae",
   "metadata": {},
   "outputs": [
    {
     "ename": "TypeError",
     "evalue": "'tuple' object doesn't support item deletion",
     "output_type": "error",
     "traceback": [
      "\u001b[1;31m---------------------------------------------------------------------------\u001b[0m",
      "\u001b[1;31mTypeError\u001b[0m                                 Traceback (most recent call last)",
      "Cell \u001b[1;32mIn[47], line 2\u001b[0m\n\u001b[0;32m      1\u001b[0m value_tuple\u001b[38;5;241m=\u001b[39m(\u001b[38;5;241m26\u001b[39m,\u001b[38;5;241m45\u001b[39m,\u001b[38;5;124m'\u001b[39m\u001b[38;5;124mhello\u001b[39m\u001b[38;5;124m'\u001b[39m,\u001b[38;5;241m7.5\u001b[39m,\u001b[38;5;124m'\u001b[39m\u001b[38;5;124mz\u001b[39m\u001b[38;5;124m'\u001b[39m,\u001b[38;5;241m5\u001b[39m,\u001b[38;5;241m6.9\u001b[39m)\n\u001b[1;32m----> 2\u001b[0m \u001b[38;5;28;01mdel\u001b[39;00m(value_tuple[\u001b[38;5;241m1\u001b[39m])\n\u001b[0;32m      3\u001b[0m \u001b[38;5;28mprint\u001b[39m(value_tuple)\n",
      "\u001b[1;31mTypeError\u001b[0m: 'tuple' object doesn't support item deletion"
     ]
    }
   ],
   "source": [
    "value_tuple=(26,45,'hello',7.5,'z',5,6.9)\n",
    "del(value_tuple[1])\n",
    "print(value_tuple)"
   ]
  },
  {
   "cell_type": "code",
   "execution_count": 49,
   "id": "a6c64298-e042-4f7b-afa6-d11bee71efa7",
   "metadata": {},
   "outputs": [
    {
     "ename": "NameError",
     "evalue": "name 'value_tuple' is not defined",
     "output_type": "error",
     "traceback": [
      "\u001b[1;31m---------------------------------------------------------------------------\u001b[0m",
      "\u001b[1;31mNameError\u001b[0m                                 Traceback (most recent call last)",
      "Cell \u001b[1;32mIn[49], line 3\u001b[0m\n\u001b[0;32m      1\u001b[0m value_tuple\u001b[38;5;241m=\u001b[39m(\u001b[38;5;241m26\u001b[39m,\u001b[38;5;241m45\u001b[39m,\u001b[38;5;124m'\u001b[39m\u001b[38;5;124mhello\u001b[39m\u001b[38;5;124m'\u001b[39m,\u001b[38;5;241m7.5\u001b[39m,\u001b[38;5;124m'\u001b[39m\u001b[38;5;124mz\u001b[39m\u001b[38;5;124m'\u001b[39m,\u001b[38;5;241m5\u001b[39m,\u001b[38;5;241m6.9\u001b[39m)\n\u001b[0;32m      2\u001b[0m \u001b[38;5;28;01mdel\u001b[39;00m(value_tuple)\n\u001b[1;32m----> 3\u001b[0m \u001b[38;5;28mprint\u001b[39m(value_tuple)\n",
      "\u001b[1;31mNameError\u001b[0m: name 'value_tuple' is not defined"
     ]
    }
   ],
   "source": [
    "value_tuple=(26,45,'hello',7.5,'z',5,6.9)\n",
    "del(value_tuple)\n",
    "print(value_tuple)"
   ]
  },
  {
   "cell_type": "code",
   "execution_count": null,
   "id": "cbe9da9b-ee7c-4a55-98e4-5b8501357a90",
   "metadata": {},
   "outputs": [],
   "source": []
  }
 ],
 "metadata": {
  "kernelspec": {
   "display_name": "Python 3 (ipykernel)",
   "language": "python",
   "name": "python3"
  },
  "language_info": {
   "codemirror_mode": {
    "name": "ipython",
    "version": 3
   },
   "file_extension": ".py",
   "mimetype": "text/x-python",
   "name": "python",
   "nbconvert_exporter": "python",
   "pygments_lexer": "ipython3",
   "version": "3.12.4"
  }
 },
 "nbformat": 4,
 "nbformat_minor": 5
}
