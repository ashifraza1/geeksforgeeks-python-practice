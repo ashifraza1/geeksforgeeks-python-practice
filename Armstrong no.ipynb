{
 "cells": [
  {
   "cell_type": "code",
   "execution_count": 7,
   "id": "0d5122d3-0c7d-4266-81cf-723da5bf926c",
   "metadata": {},
   "outputs": [
    {
     "name": "stdin",
     "output_type": "stream",
     "text": [
      "enter a number 153\n"
     ]
    },
    {
     "name": "stdout",
     "output_type": "stream",
     "text": [
      "it is an armstrong no\n"
     ]
    }
   ],
   "source": [
    "'''Armstong no\n",
    "eg:- I/O=1634\n",
    "n_digit=4\n",
    "1**4+6**4+3**4+4**4\n",
    "1+1296+81+256'''\n",
    "#output=1634\n",
    "a=int(input(\"enter a number\"))\n",
    "input_string=str(a)\n",
    "g=len(input_string)\n",
    "#print(g)\n",
    "result=0\n",
    "for i in input_string:\n",
    "    result+=int(i)**g\n",
    "if result==a:\n",
    "    print(\"it is an armstrong no\")\n",
    "else:\n",
    "    print(\"it is not a armstrong no\")"
   ]
  }
 ],
 "metadata": {
  "kernelspec": {
   "display_name": "Python 3 (ipykernel)",
   "language": "python",
   "name": "python3"
  },
  "language_info": {
   "codemirror_mode": {
    "name": "ipython",
    "version": 3
   },
   "file_extension": ".py",
   "mimetype": "text/x-python",
   "name": "python",
   "nbconvert_exporter": "python",
   "pygments_lexer": "ipython3",
   "version": "3.12.4"
  }
 },
 "nbformat": 4,
 "nbformat_minor": 5
}
